{
  "cells": [
    {
      "cell_type": "markdown",
      "metadata": {
        "id": "view-in-github",
        "colab_type": "text"
      },
      "source": [
        "<a href=\"https://colab.research.google.com/github/MehrnazSadeghieh/Computational-Intelligence-ThirdProject/blob/main/Copmputer_Intelligence_project.ipynb\" target=\"_parent\"><img src=\"https://colab.research.google.com/assets/colab-badge.svg\" alt=\"Open In Colab\"/></a>"
      ]
    },
    {
      "cell_type": "markdown",
      "source": [
        "# Copmputer Intelligence project"
      ],
      "metadata": {
        "id": "ly2VwUlTYN_G"
      },
      "id": "ly2VwUlTYN_G"
    },
    {
      "cell_type": "markdown",
      "source": [
        "### Faridreza Momtaz Zandi 9812762601\n",
        "### Mehrnaz Sadeghieh 9812762167\n"
      ],
      "metadata": {
        "id": "m_9-EuVgYqzr"
      },
      "id": "m_9-EuVgYqzr"
    },
    {
      "cell_type": "markdown",
      "source": [
        "After dealing with feature engineering in the previous phases and getting to know classifiers and clustering methods we are now finally reached the stage to use all our knowledge and get to use what we learned on a real-life dataset and try to find the solution to a well-known problem. Up till now we had a pretty neat dataset and didn't need to do anything about it to make it ready but in this project, one of our main objectives is to load and tidy our data so we can extract features and use it to train and predict a CNN model. We finish our work by analysing how our model works on our data and try to improve it by using various ways to make our model more accurate."
      ],
      "metadata": {
        "id": "ePnd08i1Y-qw"
      },
      "id": "ePnd08i1Y-qw"
    },
    {
      "cell_type": "markdown",
      "source": [
        "We simply start by linking our drive to our notebook so we don't need to upload every time we need to use our dataset."
      ],
      "metadata": {
        "id": "CGuyoUxibKMU"
      },
      "id": "CGuyoUxibKMU"
    },
    {
      "cell_type": "code",
      "execution_count": null,
      "metadata": {
        "id": "M-TSDlc5rL0j",
        "colab": {
          "base_uri": "https://localhost:8080/"
        },
        "outputId": "5ae1a0c2-d1ed-475a-a2f9-37dff913535d"
      },
      "outputs": [
        {
          "output_type": "stream",
          "name": "stdout",
          "text": [
            "Mounted at /content/drive\n"
          ]
        }
      ],
      "source": [
        "from google.colab import drive\n",
        "drive.mount('/content/drive')"
      ],
      "id": "M-TSDlc5rL0j"
    },
    {
      "cell_type": "code",
      "execution_count": null,
      "metadata": {
        "colab": {
          "base_uri": "https://localhost:8080/"
        },
        "id": "E1-zDjt5MQgw",
        "outputId": "95ebfb70-9dc5-43b7-80f9-94c4dbe05e5a"
      },
      "outputs": [
        {
          "output_type": "stream",
          "name": "stdout",
          "text": [
            "Looking in indexes: https://pypi.org/simple, https://us-python.pkg.dev/colab-wheels/public/simple/\n",
            "Collecting pyEDFlib\n",
            "  Downloading pyEDFlib-0.1.30-cp38-cp38-manylinux_2_17_x86_64.manylinux2014_x86_64.whl (2.4 MB)\n",
            "\u001b[2K     \u001b[90m━━━━━━━━━━━━━━━━━━━━━━━━━━━━━━━━━━━━━━━━\u001b[0m \u001b[32m2.4/2.4 MB\u001b[0m \u001b[31m29.9 MB/s\u001b[0m eta \u001b[36m0:00:00\u001b[0m\n",
            "\u001b[?25hRequirement already satisfied: numpy>=1.9.1 in /usr/local/lib/python3.8/dist-packages (from pyEDFlib) (1.21.6)\n",
            "Installing collected packages: pyEDFlib\n",
            "Successfully installed pyEDFlib-0.1.30\n"
          ]
        }
      ],
      "source": [
        "pip install pyEDFlib"
      ],
      "id": "E1-zDjt5MQgw"
    },
    {
      "cell_type": "markdown",
      "source": [
        "Like always we import all the needed libraries which we're gonna use."
      ],
      "metadata": {
        "id": "s8bNqF8oblK4"
      },
      "id": "s8bNqF8oblK4"
    },
    {
      "cell_type": "code",
      "execution_count": null,
      "metadata": {
        "id": "ced6fd94"
      },
      "outputs": [],
      "source": [
        "import pyedflib\n",
        "import numpy as np\n",
        "from scipy.signal import butter, lfilter\n",
        "import tensorflow as tf\n",
        "import scipy.stats as sp\n",
        "from tensorflow.keras import datasets, layers, models, Input\n",
        "import random\n",
        "import os\n",
        "from sklearn.model_selection import train_test_split\n",
        "import matplotlib.pyplot as plt\n",
        "from sklearn.metrics import RocCurveDisplay, accuracy_score, confusion_matrix, recall_score, precision_score"
      ],
      "id": "ced6fd94"
    },
    {
      "cell_type": "markdown",
      "source": [
        "As we did in previous phases we need to give the seed to our environment."
      ],
      "metadata": {
        "id": "tVl-Mngab8bx"
      },
      "id": "tVl-Mngab8bx"
    },
    {
      "cell_type": "code",
      "execution_count": null,
      "metadata": {
        "id": "1fvgdlppWuAJ"
      },
      "outputs": [],
      "source": [
        "seed = 57\n",
        "random.seed(seed)\n",
        "os.environ['PYTHONHASHSEED'] = str(seed)\n",
        "np.random.seed(seed)"
      ],
      "id": "1fvgdlppWuAJ"
    },
    {
      "cell_type": "markdown",
      "source": [
        "## Part 1: loading data and making it ready\n",
        "In this part, we're gonna use 11 signals and only 10 of them are containing 1 seizure part. We got these data set from \"physionet.org/content/chbmit/1.0.0\" and use its summary text file to find seizure parts. We try to use a 10-second window on these signals and use overlapped windows to get 10 times more samples! Out of 3000 samples, 600 of them contain a seizure part and 2400 are normals and 25% of our normals are from signals that had seizure parts."
      ],
      "metadata": {
        "id": "lfs0Ak26ceKy"
      },
      "id": "lfs0Ak26ceKy"
    },
    {
      "cell_type": "code",
      "source": [
        "seizurs = []\n",
        "normals = []\n",
        "pred_test = []"
      ],
      "metadata": {
        "id": "7MXKFzr6WJuW"
      },
      "id": "7MXKFzr6WJuW",
      "execution_count": null,
      "outputs": []
    },
    {
      "cell_type": "code",
      "execution_count": null,
      "metadata": {
        "id": "7693b673"
      },
      "outputs": [],
      "source": [
        "file_name = \"/content/drive/MyDrive/dataset/chb01_03.edf\"\n",
        "f = pyedflib.EdfReader(file_name)\n",
        "n = f.signals_in_file\n",
        "signal_labels = f.getSignalLabels()\n",
        "sigbufs = np.zeros((n, f.getNSamples()[0]))\n",
        "for i in np.arange(n):\n",
        "        sigbufs[i, :] = f.readSignal(i)\n",
        "new_sigbufs = sigbufs[16:18, :]\n",
        "for i in range (0,40):\n",
        "      seizurs.append(new_sigbufs[:, (i+2995)*256:(i+2995)*256 + 2560])\n",
        "\n",
        "for i in range (0,60):\n",
        "    normals.append(new_sigbufs[:, (i+360)*256:(i+360)*256 + 2560])"
      ],
      "id": "7693b673"
    },
    {
      "cell_type": "code",
      "execution_count": null,
      "metadata": {
        "id": "11ef1e34"
      },
      "outputs": [],
      "source": [
        "file_name = \"/content/drive/MyDrive/dataset/chb01_04.edf\"\n",
        "f = pyedflib.EdfReader(file_name)\n",
        "n = f.signals_in_file\n",
        "signal_labels = f.getSignalLabels()\n",
        "sigbufs = np.zeros((n, f.getNSamples()[0]))\n",
        "for i in np.arange(n):\n",
        "        sigbufs[i, :] = f.readSignal(i)\n",
        "new_sigbufs = sigbufs[16:18, :]\n",
        "for i in range (0,20):\n",
        "      seizurs.append(new_sigbufs[:, (i+1466)*256:(i+1466)*256 + 2560])\n",
        "\n",
        "for i in range (0,60):\n",
        "    normals.append(new_sigbufs[:, (i+360)*256:(i+360)*256 + 2560])"
      ],
      "id": "11ef1e34"
    },
    {
      "cell_type": "code",
      "execution_count": null,
      "metadata": {
        "id": "2c19cfb0"
      },
      "outputs": [],
      "source": [
        "file_name = \"/content/drive/MyDrive/dataset/chb01_15.edf\"\n",
        "f = pyedflib.EdfReader(file_name)\n",
        "n = f.signals_in_file\n",
        "signal_labels = f.getSignalLabels()\n",
        "sigbufs = np.zeros((n, f.getNSamples()[0]))\n",
        "for i in np.arange(n):\n",
        "        sigbufs[i, :] = f.readSignal(i)\n",
        "new_sigbufs = sigbufs[16:18, :]\n",
        "for i in range (0,40):\n",
        "      seizurs.append(new_sigbufs[:, (i+1731)*256:(i+1731)*256 + 2560])\n",
        "\n",
        "for i in range (0,60):\n",
        "    normals.append(new_sigbufs[:, (i+360)*256:(i+360)*256 + 2560])"
      ],
      "id": "2c19cfb0"
    },
    {
      "cell_type": "code",
      "execution_count": null,
      "metadata": {
        "id": "a5d724bd"
      },
      "outputs": [],
      "source": [
        "file_name = \"/content/drive/MyDrive/dataset/chb01_16.edf\"\n",
        "f = pyedflib.EdfReader(file_name)\n",
        "n = f.signals_in_file\n",
        "signal_labels = f.getSignalLabels()\n",
        "sigbufs = np.zeros((n, f.getNSamples()[0]))\n",
        "for i in np.arange(n):\n",
        "        sigbufs[i, :] = f.readSignal(i)\n",
        "new_sigbufs = sigbufs[16:18, :]\n",
        "for i in range (0,50):\n",
        "      seizurs.append(new_sigbufs[:, (i+1014)*256:(i+1014)*256 + 2560])\n",
        "\n",
        "for i in range (0,60):\n",
        "    normals.append(new_sigbufs[:, (i+360)*256:(i+360)*256 + 2560])"
      ],
      "id": "a5d724bd"
    },
    {
      "cell_type": "code",
      "execution_count": null,
      "metadata": {
        "id": "d1e8ad6e"
      },
      "outputs": [],
      "source": [
        "file_name = \"/content/drive/MyDrive/dataset/chb01_18.edf\"\n",
        "f = pyedflib.EdfReader(file_name)\n",
        "n = f.signals_in_file\n",
        "signal_labels = f.getSignalLabels()\n",
        "sigbufs = np.zeros((n, f.getNSamples()[0]))\n",
        "for i in np.arange(n):\n",
        "        sigbufs[i, :] = f.readSignal(i)\n",
        "new_sigbufs = sigbufs[16:18, :]\n",
        "for i in range (0,90):\n",
        "      seizurs.append(new_sigbufs[:, (i+1719)*256:(i+1719)*256 + 2560])\n",
        "\n",
        "for i in range (0,60):\n",
        "    normals.append(new_sigbufs[:, (i+360)*256:(i+360)*256 + 2560])"
      ],
      "id": "d1e8ad6e"
    },
    {
      "cell_type": "code",
      "execution_count": null,
      "metadata": {
        "id": "85358372"
      },
      "outputs": [],
      "source": [
        "file_name = \"/content/drive/MyDrive/dataset/chb01_21.edf\"\n",
        "f = pyedflib.EdfReader(file_name)\n",
        "n = f.signals_in_file\n",
        "signal_labels = f.getSignalLabels()\n",
        "sigbufs = np.zeros((n, f.getNSamples()[0]))\n",
        "for i in np.arange(n):\n",
        "        sigbufs[i, :] = f.readSignal(i)\n",
        "new_sigbufs = sigbufs[16:18, :]\n",
        "for i in range (0,90):\n",
        "      seizurs.append(new_sigbufs[:, (i+326)*256:(i+326)*256 + 2560])\n",
        "\n",
        "for i in range (0,60):\n",
        "    normals.append(new_sigbufs[:, (i+420)*256:(i+420)*256 + 2560])"
      ],
      "id": "85358372"
    },
    {
      "cell_type": "code",
      "execution_count": null,
      "metadata": {
        "id": "5aba86c1"
      },
      "outputs": [],
      "source": [
        "file_name = \"/content/drive/MyDrive/dataset/chb01_26.edf\"\n",
        "f = pyedflib.EdfReader(file_name)\n",
        "n = f.signals_in_file\n",
        "signal_labels = f.getSignalLabels()\n",
        "sigbufs = np.zeros((n, f.getNSamples()[0]))\n",
        "for i in np.arange(n):\n",
        "        sigbufs[i, :] = f.readSignal(i)\n",
        "new_sigbufs = sigbufs[16:18, :]\n",
        "for i in range (0,100):\n",
        "      seizurs.append(new_sigbufs[:, (i+1861)*256:(i+1861)*256 + 2560])\n",
        "\n",
        "for i in range (0,60):\n",
        "    normals.append(new_sigbufs[:, (i+360)*256:(i+360)*256 + 2560])"
      ],
      "id": "5aba86c1"
    },
    {
      "cell_type": "code",
      "execution_count": null,
      "metadata": {
        "id": "bf7fa9f4"
      },
      "outputs": [],
      "source": [
        "file_name = \"/content/drive/MyDrive/dataset/chb02_16.edf\"\n",
        "f = pyedflib.EdfReader(file_name)\n",
        "n = f.signals_in_file\n",
        "signal_labels = f.getSignalLabels()\n",
        "sigbufs = np.zeros((n, f.getNSamples()[0]))\n",
        "for i in np.arange(n):\n",
        "        sigbufs[i, :] = f.readSignal(i)\n",
        "new_sigbufs = sigbufs[16:18, :]\n",
        "for i in range (0,80):\n",
        "      seizurs.append(new_sigbufs[:, (i+129)*256:(i+129)*256 + 2560])\n",
        "\n",
        "for i in range (0,60):\n",
        "    normals.append(new_sigbufs[:, (i+360)*256:(i+360)*256 + 2560])"
      ],
      "id": "bf7fa9f4"
    },
    {
      "cell_type": "code",
      "execution_count": null,
      "metadata": {
        "id": "ddd58efd"
      },
      "outputs": [],
      "source": [
        "file_name = \"/content/drive/MyDrive/dataset/chb02_16+.edf\"\n",
        "f = pyedflib.EdfReader(file_name)\n",
        "n = f.signals_in_file\n",
        "signal_labels = f.getSignalLabels()\n",
        "sigbufs = np.zeros((n, f.getNSamples()[0]))\n",
        "for i in np.arange(n):\n",
        "        sigbufs[i, :] = f.readSignal(i)\n",
        "new_sigbufs = sigbufs[16:18, :]\n",
        "for i in range (0,80):\n",
        "      seizurs.append(new_sigbufs[:, (i+2971)*256:(i+2971)*256 + 2560])\n",
        "\n",
        "for i in range (0,60):\n",
        "    normals.append(new_sigbufs[:, (i+360)*256:(i+360)*256 + 2560])"
      ],
      "id": "ddd58efd"
    },
    {
      "cell_type": "code",
      "execution_count": null,
      "metadata": {
        "id": "d9bb23f7"
      },
      "outputs": [],
      "source": [
        "file_name = \"/content/drive/MyDrive/dataset/chb02_19.edf\"\n",
        "f = pyedflib.EdfReader(file_name)\n",
        "n = f.signals_in_file\n",
        "signal_labels = f.getSignalLabels()\n",
        "sigbufs = np.zeros((n, f.getNSamples()[0]))\n",
        "for i in np.arange(n):\n",
        "        sigbufs[i, :] = f.readSignal(i)\n",
        "new_sigbufs = sigbufs[16:18, :]\n",
        "for i in range (0,10):\n",
        "      seizurs.append(new_sigbufs[:, (i+3368)*256:(i+3368)*256 + 2560])\n",
        "\n",
        "for i in range (0,60):\n",
        "    normals.append(new_sigbufs[:, (i+360)*256:(i+360)*256 + 2560])"
      ],
      "id": "d9bb23f7"
    },
    {
      "cell_type": "code",
      "execution_count": null,
      "metadata": {
        "id": "fef071b6"
      },
      "outputs": [],
      "source": [
        "file_name = \"/content/drive/MyDrive/dataset/chb01_01.edf\"\n",
        "f = pyedflib.EdfReader(file_name)\n",
        "n = f.signals_in_file\n",
        "signal_labels = f.getSignalLabels()\n",
        "sigbufs = np.zeros((n, f.getNSamples()[0]))\n",
        "for i in np.arange(n):\n",
        "        sigbufs[i, :] = f.readSignal(i)\n",
        "new_sigbufs = sigbufs[16:18, :]\n",
        "for i in range (0,1800):\n",
        "    normals.append(new_sigbufs[:, (i+360)*256:(i+360)*256 + 2560])\n",
        "\n",
        "for i in range (0,600):\n",
        "    pred_test.append(new_sigbufs[:, (i+2160)*256:(i+2160)*256 + 2560])"
      ],
      "id": "fef071b6"
    },
    {
      "cell_type": "markdown",
      "source": [
        "Let's check if we choose the right amount of samples:"
      ],
      "metadata": {
        "id": "STWj_Lb3eQ_F"
      },
      "id": "STWj_Lb3eQ_F"
    },
    {
      "cell_type": "code",
      "execution_count": null,
      "metadata": {
        "colab": {
          "base_uri": "https://localhost:8080/"
        },
        "id": "970826ad",
        "outputId": "f506918e-c467-4ebc-d7ef-69cd8b366e4b"
      },
      "outputs": [
        {
          "output_type": "stream",
          "name": "stdout",
          "text": [
            "600\n",
            "2400\n"
          ]
        }
      ],
      "source": [
        "print(len(seizurs))\n",
        "print(len(normals))"
      ],
      "id": "970826ad"
    },
    {
      "cell_type": "markdown",
      "source": [
        "The last objective of this part is to filter our gained samples by the sampling frequency we got from our source."
      ],
      "metadata": {
        "id": "CZBpjKu4ehh9"
      },
      "id": "CZBpjKu4ehh9"
    },
    {
      "cell_type": "code",
      "execution_count": null,
      "metadata": {
        "id": "2914c1fe"
      },
      "outputs": [],
      "source": [
        "x_normal = np.asarray(normals)\n",
        "x_seizure = np.asarray(seizurs)\n",
        "\n",
        "sampling_freq = 256\n",
        "\n",
        "b, a = butter(3, [0.5,40], btype='bandpass',fs=sampling_freq)\n",
        "\n",
        "\n",
        "x_normal_filtered = np.array([lfilter(b,a,x_normal[ind,:]) for ind in range(x_normal.shape[0])])\n",
        "x_seizure_filtered = np.array([lfilter(b,a,x_seizure[ind,:]) for ind in range(x_seizure.shape[0])])\n",
        "\n",
        "x_normal = x_normal_filtered\n",
        "x_seizure = x_seizure_filtered"
      ],
      "id": "2914c1fe"
    },
    {
      "cell_type": "markdown",
      "source": [
        "We Finish this part by concatenating our filtered normals and seizures and also make a numpy array with the same size and value of 0 for normals and 1 for seizures so we can use it as a label array."
      ],
      "metadata": {
        "id": "AIeLlohqevj2"
      },
      "id": "AIeLlohqevj2"
    },
    {
      "cell_type": "code",
      "execution_count": null,
      "metadata": {
        "id": "82362f7a"
      },
      "outputs": [],
      "source": [
        "x = np.concatenate((x_normal,x_seizure))\n",
        "y = np.concatenate((np.zeros((2400,1)), np.full((600,1), 1)))"
      ],
      "id": "82362f7a"
    },
    {
      "cell_type": "markdown",
      "source": [
        "## Part2: Classification\n",
        "we need to use our achieved dataset to train and test our structured CNN model. We also need to get the features we found are most useful in phase2 and give them to our network as the second input. We start this part by getting our selected features."
      ],
      "metadata": {
        "id": "UHQ3tzzTfMtv"
      },
      "id": "UHQ3tzzTfMtv"
    },
    {
      "cell_type": "markdown",
      "source": [
        "Let's have a normalize function so we can call it to normalize each of our features."
      ],
      "metadata": {
        "id": "VgfON5RVgZ44"
      },
      "id": "VgfON5RVgZ44"
    },
    {
      "cell_type": "code",
      "execution_count": null,
      "metadata": {
        "id": "ad4c2f49"
      },
      "outputs": [],
      "source": [
        "def normalize (x):\n",
        "    normalizedData = (x-np.min(x))/(np.max(x)-np.min(x))\n",
        "    return normalizedData"
      ],
      "id": "ad4c2f49"
    },
    {
      "cell_type": "markdown",
      "source": [
        "Now we can get all of the selected features and we need to be careful because our data has 2 channels and we need to get the features for both of them."
      ],
      "metadata": {
        "id": "KbvrGYEKgqvy"
      },
      "id": "KbvrGYEKgqvy"
    },
    {
      "cell_type": "code",
      "execution_count": null,
      "metadata": {
        "id": "c92c4fa6"
      },
      "outputs": [],
      "source": [
        "margin_factor_values = np.zeros((3000,2,1))\n",
        "B_factor_values = np.zeros((3000,2,1))\n",
        "kurtosis_values = np.zeros((3000,2,1))\n",
        "mean_values = np.zeros((3000,2,1))\n",
        "median_values = np.zeros((3000,2,1))\n",
        "\n",
        "abs_max_values = np.zeros((3000,2,1))\n",
        "variance_values = np.zeros((3000,2,1))\n",
        "crest_factor_margin_values = np.zeros((3000,2,1))\n",
        "standard_deviation_values = np.zeros((3000,2,1))\n",
        "RMS_values = np.zeros((3000,2,1))\n",
        "\n",
        "for i in range(0 , 3000):\n",
        "    abs_max_values[i][0][0] = max(x[i][0])\n",
        "    abs_max_values[i][1][0] = max(x[i][1])\n",
        "    mean_values[i][0][0] = np.mean(x[i][0])\n",
        "    mean_values[i][1][0] = np.mean(x[i][1])\n",
        "    median_values[i][0][0] = np.median(x[i][0])\n",
        "    median_values[i][1][0] = np.median(x[i][1])\n",
        "    variance_values[i][0][0] = np.var(x[i][0])\n",
        "    variance_values[i][1][0] = np.var(x[i][1])\n",
        "    standard_deviation_values[i][0][0] = np.std(x[i][0])\n",
        "    standard_deviation_values[i][1][0] = np.std(x[i][0])\n",
        "    kurtosis_values[i][0][0] = sp.kurtosis(x[i][0])\n",
        "    kurtosis_values[i][1][0] = sp.kurtosis(x[i][1])\n",
        "    RMS_values[i][0][0] = np.sqrt(np.mean(x[i][0] ** 2))\n",
        "    RMS_values[i][1][0] = np.sqrt(np.mean(x[i][1] ** 2))\n",
        "\n",
        "for i in range (0, 3000):\n",
        "    crest_factor_margin_values[i][0][0] = abs_max_values[i][0][0] / RMS_values[i][0][0]\n",
        "    crest_factor_margin_values[i][1][0] = abs_max_values[i][1][0] / RMS_values[i][1][0]\n",
        "    margin_factor_values[i][0][0] = abs_max_values[i][0][0] / variance_values[i][0][0]\n",
        "    margin_factor_values[i][1][0] = abs_max_values[i][1][0] / variance_values[i][1][0]\n",
        "    B_factor_values[i][0][0] = (kurtosis_values[i][0][0] * crest_factor_margin_values[i][0][0]) / standard_deviation_values[i][0][0]\n",
        "    B_factor_values[i][1][0] = (kurtosis_values[i][1][0] * crest_factor_margin_values[i][1][0]) / standard_deviation_values[i][1][0]\n",
        "\n",
        "abs_max_values = normalize(abs_max_values)\n",
        "mean_values = normalize(mean_values)\n",
        "median_values = normalize(median_values)\n",
        "variance_values = normalize(variance_values)\n",
        "standard_deviation_values = normalize(standard_deviation_values)\n",
        "kurtosis_values = normalize(kurtosis_values)\n",
        "RMS_values = normalize(RMS_values)\n",
        "crest_factor_margin_values = normalize(crest_factor_margin_values)\n",
        "margin_factor_values = normalize(margin_factor_values)\n",
        "B_factor_values = normalize(B_factor_values)"
      ],
      "id": "c92c4fa6"
    },
    {
      "cell_type": "markdown",
      "source": [
        "Our desired features are now concatenated to make our features array."
      ],
      "metadata": {
        "id": "oRbWDQ20hKCh"
      },
      "id": "oRbWDQ20hKCh"
    },
    {
      "cell_type": "code",
      "execution_count": null,
      "metadata": {
        "id": "a81ce245"
      },
      "outputs": [],
      "source": [
        "x_features = np.concatenate((margin_factor_values, kurtosis_values, median_values, B_factor_values, abs_max_values), 1)"
      ],
      "id": "a81ce245"
    },
    {
      "cell_type": "markdown",
      "source": [
        "We reached the most complicated part of this project which is designing the best CNN model with no other changes that can't make the result better! First of all, we need to specify that we have two inputs with different shapes one of them is our signals and it goes through 3 convolution layers and 1 pooling, our second input is features that go through a size 1 pooling layer so we get it as tensors and after modeling both inputs we concatenate both layers and give it to a 2 node fully connected layer with softmax as activation."
      ],
      "metadata": {
        "id": "ijtxvV4lhaf8"
      },
      "id": "ijtxvV4lhaf8"
    },
    {
      "cell_type": "code",
      "execution_count": null,
      "metadata": {
        "id": "_UcopvxoqSVw"
      },
      "outputs": [],
      "source": [
        "inputA = Input(shape=(2,2560))\n",
        "inputB = Input(shape=(1,10))\n",
        "\n",
        "x1 = layers.Conv1D(64, 1, activation='relu')(inputA)\n",
        "x1 = layers.MaxPooling1D(pool_size=2)(x1)\n",
        "x1 = layers.Conv1D(128, 1, activation='relu')(x1)\n",
        "x1 = layers.Conv1D(128, 1, activation='relu')(x1)\n",
        "x1 = layers.Dense(10, activation='relu')(x1)\n",
        "x1 = tf.keras.Model(inputs=inputA, outputs=x1)\n",
        "\n",
        "y1 = layers.MaxPooling1D(pool_size=1)(inputB)\n",
        "y1 = tf.keras.Model(inputs=inputB, outputs=y1)\n",
        "\n",
        "combined = tf.keras.layers.concatenate([x1.output, y1.output])\n",
        "\n",
        "z = layers.Dense(2,activation = tf.keras.activations.softmax)(combined)\n",
        "\n",
        "model = tf.keras.Model(inputs=[x1.input, y1.input], outputs=z)"
      ],
      "id": "_UcopvxoqSVw"
    },
    {
      "cell_type": "markdown",
      "source": [
        "Let's get a summary of our model so we can see how each layer affect our input."
      ],
      "metadata": {
        "id": "mZOpcDR7jlTu"
      },
      "id": "mZOpcDR7jlTu"
    },
    {
      "cell_type": "code",
      "execution_count": null,
      "metadata": {
        "colab": {
          "base_uri": "https://localhost:8080/"
        },
        "id": "W5E9lI7GrkMP",
        "outputId": "12b89e11-e663-45e5-b448-a29ba8b19cab"
      },
      "outputs": [
        {
          "output_type": "stream",
          "name": "stdout",
          "text": [
            "Model: \"model_2\"\n",
            "__________________________________________________________________________________________________\n",
            " Layer (type)                   Output Shape         Param #     Connected to                     \n",
            "==================================================================================================\n",
            " input_1 (InputLayer)           [(None, 2, 2560)]    0           []                               \n",
            "                                                                                                  \n",
            " conv1d (Conv1D)                (None, 2, 64)        163904      ['input_1[0][0]']                \n",
            "                                                                                                  \n",
            " max_pooling1d (MaxPooling1D)   (None, 1, 64)        0           ['conv1d[0][0]']                 \n",
            "                                                                                                  \n",
            " conv1d_1 (Conv1D)              (None, 1, 128)       8320        ['max_pooling1d[0][0]']          \n",
            "                                                                                                  \n",
            " conv1d_2 (Conv1D)              (None, 1, 128)       16512       ['conv1d_1[0][0]']               \n",
            "                                                                                                  \n",
            " input_2 (InputLayer)           [(None, 1, 10)]      0           []                               \n",
            "                                                                                                  \n",
            " dense (Dense)                  (None, 1, 10)        1290        ['conv1d_2[0][0]']               \n",
            "                                                                                                  \n",
            " max_pooling1d_1 (MaxPooling1D)  (None, 1, 10)       0           ['input_2[0][0]']                \n",
            "                                                                                                  \n",
            " concatenate (Concatenate)      (None, 1, 20)        0           ['dense[0][0]',                  \n",
            "                                                                  'max_pooling1d_1[0][0]']        \n",
            "                                                                                                  \n",
            " dense_1 (Dense)                (None, 1, 2)         42          ['concatenate[0][0]']            \n",
            "                                                                                                  \n",
            "==================================================================================================\n",
            "Total params: 190,068\n",
            "Trainable params: 190,068\n",
            "Non-trainable params: 0\n",
            "__________________________________________________________________________________________________\n"
          ]
        }
      ],
      "source": [
        "model.summary()"
      ],
      "id": "W5E9lI7GrkMP"
    },
    {
      "cell_type": "markdown",
      "source": [
        "We also need to compile this model before we can fit or predict with it!"
      ],
      "metadata": {
        "id": "MlrnGZuqjy9n"
      },
      "id": "MlrnGZuqjy9n"
    },
    {
      "cell_type": "code",
      "execution_count": null,
      "metadata": {
        "id": "ne6QCQS6Ut-g"
      },
      "outputs": [],
      "source": [
        "model.compile(optimizer='adam', loss=tf.keras.losses.SparseCategoricalCrossentropy(from_logits=True),metrics=['accuracy'])"
      ],
      "id": "ne6QCQS6Ut-g"
    },
    {
      "cell_type": "code",
      "execution_count": null,
      "metadata": {
        "id": "f8Ns3LXN7njV"
      },
      "outputs": [],
      "source": [
        "x_features = np.transpose(x_features, (0, 2, 1))"
      ],
      "id": "f8Ns3LXN7njV"
    },
    {
      "cell_type": "markdown",
      "source": [
        "We finally reached the point to give our data to our model so we need to call train test split so it can give us a totally random train and test data. we use this method on our x, y and x_features arrays and get their equivelant test and train arrays and give it to our model fit function."
      ],
      "metadata": {
        "id": "IwPC4eWMj7M0"
      },
      "id": "IwPC4eWMj7M0"
    },
    {
      "cell_type": "code",
      "execution_count": null,
      "metadata": {
        "colab": {
          "base_uri": "https://localhost:8080/"
        },
        "id": "qa11GQ5MVL4H",
        "outputId": "ae855517-d4a2-4533-8279-f7ec1257f51e"
      },
      "outputs": [
        {
          "output_type": "stream",
          "name": "stdout",
          "text": [
            "Epoch 1/20\n"
          ]
        },
        {
          "output_type": "stream",
          "name": "stderr",
          "text": [
            "/usr/local/lib/python3.8/dist-packages/keras/backend.py:5585: UserWarning: \"`sparse_categorical_crossentropy` received `from_logits=True`, but the `output` argument was produced by a Softmax activation and thus does not represent logits. Was this intended?\n",
            "  output, from_logits = _get_logits(\n"
          ]
        },
        {
          "output_type": "stream",
          "name": "stdout",
          "text": [
            "1/1 [==============================] - 2s 2s/step - loss: 13.5568 - accuracy: 0.7329 - val_loss: 14.5320 - val_accuracy: 0.3100\n",
            "Epoch 2/20\n",
            "1/1 [==============================] - 0s 185ms/step - loss: 12.9387 - accuracy: 0.3162 - val_loss: 9.8320 - val_accuracy: 0.3783\n",
            "Epoch 3/20\n",
            "1/1 [==============================] - 0s 218ms/step - loss: 6.2783 - accuracy: 0.4625 - val_loss: 7.0175 - val_accuracy: 0.6067\n",
            "Epoch 4/20\n",
            "1/1 [==============================] - 0s 252ms/step - loss: 2.0162 - accuracy: 0.7604 - val_loss: 9.3364 - val_accuracy: 0.7367\n",
            "Epoch 5/20\n",
            "1/1 [==============================] - 0s 189ms/step - loss: 2.6023 - accuracy: 0.8492 - val_loss: 9.8911 - val_accuracy: 0.7533\n",
            "Epoch 6/20\n",
            "1/1 [==============================] - 0s 195ms/step - loss: 2.2000 - accuracy: 0.8621 - val_loss: 8.4222 - val_accuracy: 0.7350\n",
            "Epoch 7/20\n",
            "1/1 [==============================] - 0s 189ms/step - loss: 0.9243 - accuracy: 0.9108 - val_loss: 6.9613 - val_accuracy: 0.7133\n",
            "Epoch 8/20\n",
            "1/1 [==============================] - 0s 194ms/step - loss: 0.4243 - accuracy: 0.9275 - val_loss: 6.0824 - val_accuracy: 0.6633\n",
            "Epoch 9/20\n",
            "1/1 [==============================] - 0s 218ms/step - loss: 0.3619 - accuracy: 0.9117 - val_loss: 5.4995 - val_accuracy: 0.6400\n",
            "Epoch 10/20\n",
            "1/1 [==============================] - 0s 193ms/step - loss: 0.3797 - accuracy: 0.8963 - val_loss: 5.1637 - val_accuracy: 0.6300\n",
            "Epoch 11/20\n",
            "1/1 [==============================] - 0s 188ms/step - loss: 0.3658 - accuracy: 0.8908 - val_loss: 5.0374 - val_accuracy: 0.6383\n",
            "Epoch 12/20\n",
            "1/1 [==============================] - 0s 199ms/step - loss: 0.2790 - accuracy: 0.9062 - val_loss: 5.0177 - val_accuracy: 0.6500\n",
            "Epoch 13/20\n",
            "1/1 [==============================] - 0s 189ms/step - loss: 0.1856 - accuracy: 0.9346 - val_loss: 5.0675 - val_accuracy: 0.6700\n",
            "Epoch 14/20\n",
            "1/1 [==============================] - 0s 200ms/step - loss: 0.1185 - accuracy: 0.9596 - val_loss: 5.1573 - val_accuracy: 0.6833\n",
            "Epoch 15/20\n",
            "1/1 [==============================] - 0s 192ms/step - loss: 0.0753 - accuracy: 0.9737 - val_loss: 5.3210 - val_accuracy: 0.7017\n",
            "Epoch 16/20\n",
            "1/1 [==============================] - 0s 181ms/step - loss: 0.0494 - accuracy: 0.9833 - val_loss: 5.4972 - val_accuracy: 0.7233\n",
            "Epoch 17/20\n",
            "1/1 [==============================] - 0s 196ms/step - loss: 0.0319 - accuracy: 0.9929 - val_loss: 5.6730 - val_accuracy: 0.7267\n",
            "Epoch 18/20\n",
            "1/1 [==============================] - 0s 198ms/step - loss: 0.0261 - accuracy: 0.9929 - val_loss: 5.8161 - val_accuracy: 0.7267\n",
            "Epoch 19/20\n",
            "1/1 [==============================] - 0s 163ms/step - loss: 0.0201 - accuracy: 0.9950 - val_loss: 5.9249 - val_accuracy: 0.7317\n",
            "Epoch 20/20\n",
            "1/1 [==============================] - 0s 177ms/step - loss: 0.0139 - accuracy: 0.9987 - val_loss: 6.0080 - val_accuracy: 0.7383\n"
          ]
        }
      ],
      "source": [
        "x_train, x_test, y_train, y_test,x_features_train,x_features_test = train_test_split(x,y,x_features,random_state=seed,test_size=0.2)\n",
        "\n",
        "history = model.fit([x_train, x_features_train],y_train, batch_size=2400, epochs=20, validation_data=([x_test, x_features_test], y_test))"
      ],
      "id": "qa11GQ5MVL4H"
    },
    {
      "cell_type": "markdown",
      "source": [
        "## Part3: Presenting Results\n",
        "Now that we have our model and used our samples to train it we can use accuracy and validation accuracy to plot both of them and check to see if our model is overfitted or not which we see it's not. We can also use the model evaluates function to get test_loss and test_acc attributes."
      ],
      "metadata": {
        "id": "o7vKO0qsk6Ez"
      },
      "id": "o7vKO0qsk6Ez"
    },
    {
      "cell_type": "code",
      "execution_count": null,
      "metadata": {
        "colab": {
          "base_uri": "https://localhost:8080/",
          "height": 300
        },
        "id": "U8ny2L7VD3KA",
        "outputId": "f441681e-c40f-4de3-c2d7-8c61298d16c0"
      },
      "outputs": [
        {
          "output_type": "stream",
          "name": "stdout",
          "text": [
            "19/19 - 0s - loss: 6.0080 - accuracy: 0.7383 - 73ms/epoch - 4ms/step\n"
          ]
        },
        {
          "output_type": "display_data",
          "data": {
            "text/plain": [
              "<Figure size 432x288 with 1 Axes>"
            ],
            "image/png": "[encoded data removed]"
          },
          "metadata": {
            "needs_background": "light"
          }
        }
      ],
      "source": [
        "plt.plot(history.history['accuracy'], label='accuracy')\n",
        "plt.plot(history.history['val_accuracy'], label = 'val_accuracy')\n",
        "plt.xlabel('Epoch')\n",
        "plt.ylabel('Accuracy')\n",
        "plt.ylim([0.5, 1])\n",
        "plt.legend(loc='lower right')\n",
        "\n",
        "test_loss, test_acc = model.evaluate([x_test, x_features_test],  y_test, verbose=2)\n"
      ],
      "id": "U8ny2L7VD3KA"
    },
    {
      "cell_type": "code",
      "execution_count": null,
      "metadata": {
        "colab": {
          "base_uri": "https://localhost:8080/"
        },
        "id": "sWZMC1-iESuH",
        "outputId": "425b5a86-f673-49c9-a6ed-9e8a1473de81"
      },
      "outputs": [
        {
          "output_type": "execute_result",
          "data": {
            "text/plain": [
              "0.7383333444595337"
            ]
          },
          "metadata": {},
          "execution_count": 29
        }
      ],
      "source": [
        "test_acc"
      ],
      "id": "sWZMC1-iESuH"
    },
    {
      "cell_type": "markdown",
      "source": [
        "We need to get the prediction of our model on our test data as the code below does."
      ],
      "metadata": {
        "id": "PfiSFlz2mDMJ"
      },
      "id": "PfiSFlz2mDMJ"
    },
    {
      "cell_type": "code",
      "execution_count": null,
      "metadata": {
        "colab": {
          "base_uri": "https://localhost:8080/"
        },
        "id": "XUenfAPHXcPt",
        "outputId": "1b82accb-1da1-4d86-c3a8-a49c3a1fb94a"
      },
      "outputs": [
        {
          "output_type": "stream",
          "name": "stdout",
          "text": [
            "19/19 [==============================] - 0s 2ms/step\n"
          ]
        }
      ],
      "source": [
        "y_pred = model.predict([x_test, x_features_test])"
      ],
      "id": "XUenfAPHXcPt"
    },
    {
      "cell_type": "markdown",
      "source": [
        "As We have a categorical cross-entropy classifier,first we need to convert it to a binary classifier, then we calculate some numerical metrics such as accuracy_score,confusion_matrix,recall_score and precision_score and ROC graph\n",
        "As mentioned in the class, to have better accuracy we try to look into our samples 5 by 5 so we calculate the number of seizures in larger scope and make the label equal to the most number of types.\n"
      ],
      "metadata": {
        "id": "nn_XwBAomXGh"
      },
      "id": "nn_XwBAomXGh"
    },
    {
      "cell_type": "code",
      "execution_count": null,
      "metadata": {
        "colab": {
          "base_uri": "https://localhost:8080/",
          "height": 366
        },
        "id": "inMCUSNmxXkM",
        "outputId": "fc4c4c02-e611-4757-d073-452e55dcd777"
      },
      "outputs": [
        {
          "output_type": "stream",
          "name": "stdout",
          "text": [
            "0.7383333333333333\n",
            "[[415  59]\n",
            " [ 98  28]]\n",
            "0.2222222222222222\n",
            "0.3218390804597701\n"
          ]
        },
        {
          "output_type": "display_data",
          "data": {
            "text/plain": [
              "<Figure size 432x288 with 1 Axes>"
            ],
            "image/png": "[encoded data removed]"
          },
          "metadata": {
            "needs_background": "light"
          }
        }
      ],
      "source": [
        "y_pred_1 = np.zeros((600,1))\n",
        "\n",
        "for i in range(0,600):\n",
        "  if(y_pred[i][0][0] > y_pred[i][0][1]):\n",
        "    y_pred_1[i][0] = 0\n",
        "  else:\n",
        "    y_pred_1[i][0] = 1\n",
        "\n",
        "print(accuracy_score(y_test,y_pred_1))\n",
        "print(confusion_matrix(y_test, y_pred_1))\n",
        "print(recall_score(y_test,y_pred_1))\n",
        "print(precision_score(y_test,y_pred_1))\n",
        "\n",
        "RocCurveDisplay.from_predictions(y_test, y_pred_1, color= \"darkorange\")\n",
        "plt.show()\n",
        "\n",
        "for i in range(0,600,5):\n",
        "  count = 0\n",
        "  for j in range(0,5):\n",
        "    if(y_pred_1[i+j][0] == 1):\n",
        "      count = count+1\n",
        "\n",
        "  for j in range(0,5):\n",
        "    if(count >= 3):\n",
        "      y_pred_1[i+j][0] = 1\n",
        "    else:\n",
        "      y_pred_1[i+j][0] = 0"
      ],
      "id": "inMCUSNmxXkM"
    },
    {
      "cell_type": "markdown",
      "source": [
        "we can see that we have a better accuracy after the changed we just made!"
      ],
      "metadata": {
        "id": "au-XhfFHqDH2"
      },
      "id": "au-XhfFHqDH2"
    },
    {
      "cell_type": "code",
      "execution_count": null,
      "metadata": {
        "colab": {
          "base_uri": "https://localhost:8080/",
          "height": 366
        },
        "id": "4otW1YmZxngd",
        "outputId": "c833acbe-d1cc-4b2f-9b12-98540a1832d0"
      },
      "outputs": [
        {
          "output_type": "stream",
          "name": "stdout",
          "text": [
            "0.7816666666666666\n",
            "[[459  15]\n",
            " [116  10]]\n",
            "0.07936507936507936\n",
            "0.4\n"
          ]
        },
        {
          "output_type": "display_data",
          "data": {
            "text/plain": [
              "<Figure size 432x288 with 1 Axes>"
            ],
            "image/png": "[encoded data removed]"
          },
          "metadata": {
            "needs_background": "light"
          }
        }
      ],
      "source": [
        "print(accuracy_score(y_test,y_pred_1))\n",
        "print(confusion_matrix(y_test, y_pred_1))\n",
        "print(recall_score(y_test,y_pred_1))\n",
        "print(precision_score(y_test,y_pred_1))\n",
        "RocCurveDisplay.from_predictions(y_test, y_pred_1, color= \"darkorange\")\n",
        "plt.show()"
      ],
      "id": "4otW1YmZxngd"
    },
    {
      "cell_type": "markdown",
      "source": [
        "In this part, we are gonna get the features for our pred_test list which we got by only getting samples from signals without any seizures."
      ],
      "metadata": {
        "id": "GZQ3VJGBqQg0"
      },
      "id": "GZQ3VJGBqQg0"
    },
    {
      "cell_type": "code",
      "execution_count": null,
      "metadata": {
        "id": "Kt_xzksJxXR0"
      },
      "outputs": [],
      "source": [
        "margin_factor_values = np.zeros((600,2,1))\n",
        "B_factor_values = np.zeros((600,2,1))\n",
        "kurtosis_values = np.zeros((600,2,1))\n",
        "mean_values = np.zeros((600,2,1))\n",
        "median_values = np.zeros((600,2,1))\n",
        "\n",
        "abs_max_values = np.zeros((600,2,1))\n",
        "variance_values = np.zeros((600,2,1))\n",
        "crest_factor_margin_values = np.zeros((600,2,1))\n",
        "standard_deviation_values = np.zeros((600,2,1))\n",
        "RMS_values = np.zeros((600,2,1))\n",
        "\n",
        "for i in range(0 , 600):\n",
        "    abs_max_values[i][0][0] = max(pred_test[i][0])\n",
        "    abs_max_values[i][1][0] = max(pred_test[i][1])\n",
        "    mean_values[i][0][0] = np.mean(pred_test[i][0])\n",
        "    mean_values[i][1][0] = np.mean(pred_test[i][1])\n",
        "    median_values[i][0][0] = np.median(pred_test[i][0])\n",
        "    median_values[i][1][0] = np.median(pred_test[i][1])\n",
        "    variance_values[i][0][0] = np.var(pred_test[i][0])\n",
        "    variance_values[i][1][0] = np.var(pred_test[i][1])\n",
        "    standard_deviation_values[i][0][0] = np.std(pred_test[i][0])\n",
        "    standard_deviation_values[i][1][0] = np.std(pred_test[i][0])\n",
        "    kurtosis_values[i][0][0] = sp.kurtosis(pred_test[i][0])\n",
        "    kurtosis_values[i][1][0] = sp.kurtosis(pred_test[i][1])\n",
        "    RMS_values[i][0][0] = np.sqrt(np.mean(pred_test[i][0] ** 2))\n",
        "    RMS_values[i][1][0] = np.sqrt(np.mean(pred_test[i][1] ** 2))\n",
        "\n",
        "for i in range (0, 600):\n",
        "    crest_factor_margin_values[i][0][0] = abs_max_values[i][0][0] / RMS_values[i][0][0]\n",
        "    crest_factor_margin_values[i][1][0] = abs_max_values[i][1][0] / RMS_values[i][1][0]\n",
        "    margin_factor_values[i][0][0] = abs_max_values[i][0][0] / variance_values[i][0][0]\n",
        "    margin_factor_values[i][1][0] = abs_max_values[i][1][0] / variance_values[i][1][0]\n",
        "    B_factor_values[i][0][0] = (kurtosis_values[i][0][0] * crest_factor_margin_values[i][0][0]) / standard_deviation_values[i][0][0]\n",
        "    B_factor_values[i][1][0] = (kurtosis_values[i][1][0] * crest_factor_margin_values[i][1][0]) / standard_deviation_values[i][1][0]\n",
        "\n",
        "abs_max_values = normalize(abs_max_values)\n",
        "mean_values = normalize(mean_values)\n",
        "median_values = normalize(median_values)\n",
        "variance_values = normalize(variance_values)\n",
        "standard_deviation_values = normalize(standard_deviation_values)\n",
        "kurtosis_values = normalize(kurtosis_values)\n",
        "RMS_values = normalize(RMS_values)\n",
        "crest_factor_margin_values = normalize(crest_factor_margin_values)\n",
        "margin_factor_values = normalize(margin_factor_values)\n",
        "B_factor_values = normalize(B_factor_values)"
      ],
      "id": "Kt_xzksJxXR0"
    },
    {
      "cell_type": "code",
      "execution_count": null,
      "metadata": {
        "id": "nTTwJlI9xx8g"
      },
      "outputs": [],
      "source": [
        "x_features_pred = np.concatenate((margin_factor_values, kurtosis_values, median_values, B_factor_values, abs_max_values), 1)"
      ],
      "id": "nTTwJlI9xx8g"
    },
    {
      "cell_type": "code",
      "source": [
        "pred_test = np.asarray(pred_test)\n",
        "x_features_pred = np.asarray(x_features_pred)\n",
        "x_features_pred = np.transpose(x_features_pred, (0, 2, 1))"
      ],
      "metadata": {
        "id": "1caOWY8s7MCi"
      },
      "id": "1caOWY8s7MCi",
      "execution_count": null,
      "outputs": []
    },
    {
      "cell_type": "markdown",
      "source": [
        "We get a model prediction by giving our model full normal data to see how it works by getting false alarms."
      ],
      "metadata": {
        "id": "RmzPZgaKr5GR"
      },
      "id": "RmzPZgaKr5GR"
    },
    {
      "cell_type": "code",
      "execution_count": null,
      "metadata": {
        "colab": {
          "base_uri": "https://localhost:8080/"
        },
        "id": "rb9BaHCD2zXR",
        "outputId": "b331f373-1e13-453a-99d1-776d465549ff"
      },
      "outputs": [
        {
          "output_type": "stream",
          "name": "stdout",
          "text": [
            "19/19 [==============================] - 0s 2ms/step\n",
            "(600, 1, 2)\n"
          ]
        }
      ],
      "source": [
        "prediction = model.predict([pred_test,x_features_pred])\n",
        "print(prediction.shape)"
      ],
      "id": "rb9BaHCD2zXR"
    },
    {
      "cell_type": "code",
      "source": [
        "prediction_1 = np.zeros((600,1))\n",
        "for i in range(0,600):\n",
        "  if(prediction[i][0][0] > prediction[i][0][1]):\n",
        "    prediction_1[i][0] = 0\n",
        "  else:\n",
        "    prediction_1[i][0] = 1\n",
        "\n",
        "y_test_pred = np.zeros((600,1))\n",
        "print(accuracy_score(y_test_pred,prediction_1))"
      ],
      "metadata": {
        "id": "-zhKIOiq8IW7",
        "colab": {
          "base_uri": "https://localhost:8080/"
        },
        "outputId": "35c72e56-9e84-4ded-d433-67e186cb9217"
      },
      "id": "-zhKIOiq8IW7",
      "execution_count": null,
      "outputs": [
        {
          "output_type": "stream",
          "name": "stdout",
          "text": [
            "0.8716666666666667\n"
          ]
        }
      ]
    },
    {
      "cell_type": "markdown",
      "source": [
        "The function below let us find the number of times and duration that our prediction gave us a seizure although it only had normals! we use this method and draw its histogram to get a better grasp of it."
      ],
      "metadata": {
        "id": "z87AAYcasgnK"
      },
      "id": "z87AAYcasgnK"
    },
    {
      "cell_type": "code",
      "execution_count": null,
      "metadata": {
        "id": "IsxdPaA4KYFO"
      },
      "outputs": [],
      "source": [
        "def find_false_alarm():\n",
        "  false_alarms = 0\n",
        "  for i in range(0,600):\n",
        "    if(0 != prediction_1[i][0]):\n",
        "      false_alarms = false_alarms + 1\n",
        "\n",
        "  print(\"false_alarm count:\",false_alarms)\n",
        "  fls_alm = []\n",
        "  i = 0\n",
        "  while(i < 600):\n",
        "    false_duration = 0\n",
        "    if(0 != prediction_1[i][0]):\n",
        "      while(0 != prediction_1[i][0]):\n",
        "        false_duration = false_duration + 1\n",
        "        i = i+1\n",
        "      i = i-1\n",
        "    if(false_duration > 0):\n",
        "      fls_alm.append(false_duration * 10)\n",
        "    i = i+1\n",
        "\n",
        "  plt.hist(fls_alm,edgecolor = 'black',rwidth = 0.9)\n",
        "  plt.show()"
      ],
      "id": "IsxdPaA4KYFO"
    },
    {
      "cell_type": "code",
      "source": [
        "find_false_alarm()"
      ],
      "metadata": {
        "colab": {
          "base_uri": "https://localhost:8080/",
          "height": 283
        },
        "id": "mXlU25AH9LTd",
        "outputId": "47cc4bf7-995a-4a36-b359-bb33ef5e400c"
      },
      "id": "mXlU25AH9LTd",
      "execution_count": null,
      "outputs": [
        {
          "output_type": "stream",
          "name": "stdout",
          "text": [
            "false_alarm count: 77\n"
          ]
        },
        {
          "output_type": "display_data",
          "data": {
            "text/plain": [
              "<Figure size 432x288 with 1 Axes>"
            ],
            "image/png": "[encoded data removed]"
          },
          "metadata": {
            "needs_background": "light"
          }
        }
      ]
    },
    {
      "cell_type": "markdown",
      "source": [
        "## A comprehensive solution for building a seizure detection system\n",
        "One of the main flaws of CNN models is that if our data isn't enough and doesn't have the desired variety it won't be general enough to use on different Patients so one way to fix this is to get samples of many patients as possible so we get many different ways a seizure might occur!"
      ],
      "metadata": {
        "id": "_ekO2VzNs849"
      },
      "id": "_ekO2VzNs849"
    },
    {
      "cell_type": "markdown",
      "source": [
        "Our structured model which we just achieved and used all our knowledge and any ways we could have thought about on it finally got to 0.87 accuracy and by having enough input samples we won't be needing any other classifiers to mix it with our model, we just need to make our CNN model as precise as we can."
      ],
      "metadata": {
        "id": "ZJz_JDZuu5u5"
      },
      "id": "ZJz_JDZuu5u5"
    },
    {
      "cell_type": "markdown",
      "source": [
        "By looking into what we did in this project and what we achieved we can give a piece of professional advice on how to program the implant on the patient, we think the best way to plan it is to have it send the last 20-second signal every 20 seconds, this gives us enough testing time to give to our trained and ready model also it's enough time to inject medicene to our patient if needed."
      ],
      "metadata": {
        "id": "rMGwOnh3wh8V"
      },
      "id": "rMGwOnh3wh8V"
    }
  ],
  "metadata": {
    "accelerator": "GPU",
    "colab": {
      "provenance": [],
      "include_colab_link": true
    },
    "gpuClass": "standard",
    "kernelspec": {
      "display_name": "Python 3 (ipykernel)",
      "language": "python",
      "name": "python3"
    },
    "language_info": {
      "codemirror_mode": {
        "name": "ipython",
        "version": 3
      },
      "file_extension": ".py",
      "mimetype": "text/x-python",
      "name": "python",
      "nbconvert_exporter": "python",
      "pygments_lexer": "ipython3",
      "version": "3.9.5"
    }
  },
  "nbformat": 4,
  "nbformat_minor": 5
}